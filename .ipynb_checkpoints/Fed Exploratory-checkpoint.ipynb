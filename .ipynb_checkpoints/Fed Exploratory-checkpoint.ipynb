{
 "cells": [
  {
   "cell_type": "markdown",
   "metadata": {},
   "source": [
    "# Exploratory analysis for federal contractors\n",
    "\n",
    "This is just a simple exploratory analysis to get familiar with the Python language, docker containers, and Jupyter notebooks.  I've downloaded datasets from the [Federal Contractors Database](https://www.usaspending.gov/#/download_center/custom_award_data). For variable types, see the [data dictionary](http://fedspendingtransparency.github.io/dictionary-v1.1/).\n",
    "\n",
    "While the goal is simply to get used to Python and some other technologies, I am interested in the specific question of ***what factors are the best predictors of minority owned companies***.  "
   ]
  },
  {
   "cell_type": "markdown",
   "metadata": {},
   "source": [
    "#### Init\n",
    "Read in the data and load packages"
   ]
  },
  {
   "cell_type": "code",
   "execution_count": 2,
   "metadata": {},
   "outputs": [],
   "source": [
    "import pandas as pd\n",
    "import numpy as np\n",
    "import pandas_profiling as pp\n",
    "\n",
    "dat = pd.read_csv('data/2017.csv', low_memory=False)"
   ]
  },
  {
   "cell_type": "markdown",
   "metadata": {},
   "source": [
    "## Profiling"
   ]
  },
  {
   "cell_type": "code",
   "execution_count": 121,
   "metadata": {},
   "outputs": [
    {
     "data": {
      "text/plain": [
       "(72367, 225)"
      ]
     },
     "execution_count": 121,
     "metadata": {},
     "output_type": "execute_result"
    }
   ],
   "source": [
    "dat.shape"
   ]
  },
  {
   "cell_type": "markdown",
   "metadata": {},
   "source": [
    "Since the data has 225 columns and +70k rows, I'm only going to do a profile report on a small subset of the rows.  I'm also going to save the report as an HTML file outside of this analysis.  "
   ]
  },
  {
   "cell_type": "code",
   "execution_count": 122,
   "metadata": {
    "scrolled": false
   },
   "outputs": [],
   "source": [
    "profile = pp.ProfileReport(dat.loc[0:10000])\n",
    "profile.to_file(outputfile = \"profiling/profile.html\")"
   ]
  },
  {
   "cell_type": "code",
   "execution_count": 3,
   "metadata": {},
   "outputs": [],
   "source": [
    "import matplotlib.pyplot as plt\n",
    "cmt = dat.corr()"
   ]
  },
  {
   "cell_type": "markdown",
   "metadata": {},
   "source": [
    "I'm mostly interested in dollars the companies recieve and the size of the company. So I'm going to make a function that checks for a certain level of correlation for the selected variable. The following cells look at:  \n",
    "\n",
    "* Dollars Obligated\n",
    "* Number of Employees\n",
    "* Minority Owned Flag"
   ]
  },
  {
   "cell_type": "code",
   "execution_count": 4,
   "metadata": {},
   "outputs": [],
   "source": [
    "def corMat(dd, corlv, var):\n",
    "    ind = abs(dd[var]) > corlv\n",
    "    return dd.loc[ind, ind]; "
   ]
  },
  {
   "cell_type": "code",
   "execution_count": 6,
   "metadata": {},
   "outputs": [
    {
     "data": {
      "text/plain": [
       "dollarsobligated                         1.000000\n",
       "baseandexercisedoptionsvalue             0.967203\n",
       "baseandalloptionsvalue                   0.861076\n",
       "progsourcesubacct                       -0.076980\n",
       "prime_awardee_executive1_compensation   -0.084980\n",
       "prime_awardee_executive2_compensation   -0.072067\n",
       "prime_awardee_executive3_compensation   -0.071098\n",
       "prime_awardee_executive4_compensation   -0.071617\n",
       "prime_awardee_executive5_compensation   -0.065659\n",
       "Name: dollarsobligated, dtype: float64"
      ]
     },
     "execution_count": 6,
     "metadata": {},
     "output_type": "execute_result"
    }
   ],
   "source": [
    "corMat(cmt,0.05, \"dollarsobligated\").dollarsobligated"
   ]
  },
  {
   "cell_type": "code",
   "execution_count": 8,
   "metadata": {
    "scrolled": true
   },
   "outputs": [
    {
     "data": {
      "text/plain": [
       "progsourceagency                             -0.068632\n",
       "progsourcesubacct                            -0.112453\n",
       "ccrexception                                 -0.357217\n",
       "vendor_cd                                     0.093742\n",
       "congressionaldistrict                         0.093742\n",
       "placeofperformancezipcode                    -0.145658\n",
       "transactionnumber                             0.100897\n",
       "numberofemployees                             1.000000\n",
       "veteranownedflag                             -0.077613\n",
       "receivescontracts                             0.077046\n",
       "issubchapterscorporation                     -0.124280\n",
       "islimitedliabilitycorporation                 0.051856\n",
       "ispartnershiporlimitedliabilitypartnership    0.057622\n",
       "prime_awardee_executive1_compensation         0.975024\n",
       "prime_awardee_executive2_compensation         0.980690\n",
       "prime_awardee_executive3_compensation         0.972878\n",
       "prime_awardee_executive4_compensation         0.963208\n",
       "prime_awardee_executive5_compensation         0.973902\n",
       "Name: numberofemployees, dtype: float64"
      ]
     },
     "execution_count": 8,
     "metadata": {},
     "output_type": "execute_result"
    }
   ],
   "source": [
    "corMat(cmt,0.05, \"numberofemployees\").numberofemployees"
   ]
  },
  {
   "cell_type": "code",
   "execution_count": 9,
   "metadata": {},
   "outputs": [
    {
     "data": {
      "text/plain": [
       "progsourcesubacct                               -0.288274\n",
       "placeofperformancezipcode                        0.255004\n",
       "firm8aflag                                       0.316287\n",
       "minorityownedbusinessflag                        1.000000\n",
       "apaobflag                                        0.614026\n",
       "baobflag                                         0.329557\n",
       "naobflag                                         0.263247\n",
       "haobflag                                         0.269490\n",
       "isdotcertifieddisadvantagedbusinessenterprise    0.270052\n",
       "prime_awardee_executive1_compensation           -0.337572\n",
       "prime_awardee_executive2_compensation           -0.375064\n",
       "prime_awardee_executive3_compensation           -0.398767\n",
       "prime_awardee_executive4_compensation           -0.446047\n",
       "prime_awardee_executive5_compensation           -0.400471\n",
       "Name: minorityownedbusinessflag, dtype: float64"
      ]
     },
     "execution_count": 9,
     "metadata": {},
     "output_type": "execute_result"
    }
   ],
   "source": [
    "corMat(cmt,0.25, \"minorityownedbusinessflag\").minorityownedbusinessflag"
   ]
  },
  {
   "cell_type": "markdown",
   "metadata": {},
   "source": [
    "The minority owned business flag shows several interesting correlations:  \n",
    "\n",
    "1. apaobflag, baobflag, naobflag, and haobflag are just subtypes of minority flags: Asian Pacific American, Black American, Native American, and Hispanic American, respectively. (Thus they're not particularly interesting. \n",
    "2. firm8aflag is for 8(a) Program Participant Organizations, which is a program for small, underpriviledged companies. \n",
    "3. DOT certified disadvantaged companies has a slightly smaller correlation. \n",
    "4. All ofthe executive compensations have a negative correlation, meaning that as executive compensation goes up, the likelihood of being minority owned is smaller."
   ]
  },
  {
   "cell_type": "code",
   "execution_count": 10,
   "metadata": {},
   "outputs": [],
   "source": [
    "# dat.prime_awardee_executive1_compensation.describe()"
   ]
  },
  {
   "cell_type": "code",
   "execution_count": 11,
   "metadata": {},
   "outputs": [],
   "source": [
    "import seaborn as sns\n",
    "import matplotlib.pyplot as plt\n",
    "from scipy import stats\n",
    "%matplotlib inline"
   ]
  },
  {
   "cell_type": "code",
   "execution_count": 12,
   "metadata": {},
   "outputs": [],
   "source": [
    "sns.set(color_codes=True)"
   ]
  },
  {
   "cell_type": "code",
   "execution_count": 13,
   "metadata": {},
   "outputs": [
    {
     "data": {
      "text/plain": [
       "<matplotlib.axes._subplots.AxesSubplot at 0x7f329ef345c0>"
      ]
     },
     "execution_count": 13,
     "metadata": {},
     "output_type": "execute_result"
    },
    {
     "data": {
      "image/png": "[encoded data removed]",
      "text/plain": [
       "<Figure size 432x288 with 1 Axes>"
      ]
     },
     "metadata": {},
     "output_type": "display_data"
    }
   ],
   "source": [
    "sns.distplot(dat['numberofemployees'])\n"
   ]
  },
  {
   "cell_type": "markdown",
   "metadata": {},
   "source": [
    "## Linear model \n",
    "\n",
    "### (statsmodels)\n",
    "\n",
    "Run a linear model for employee count and company size."
   ]
  },
  {
   "cell_type": "code",
   "execution_count": 41,
   "metadata": {},
   "outputs": [],
   "source": [
    "import statsmodels.api as sm\n",
    "x = dat[\"numberofemployees\"]\n",
    "y = dat[\"dollarsobligated\"]\n",
    "x = sm.add_constant(x)"
   ]
  },
  {
   "cell_type": "code",
   "execution_count": 42,
   "metadata": {},
   "outputs": [
    {
     "data": {
      "text/html": [
       "<table class=\"simpletable\">\n",
       "<caption>OLS Regression Results</caption>\n",
       "<tr>\n",
       "  <th>Dep. Variable:</th>    <td>dollarsobligated</td> <th>  R-squared:         </th>  <td>   0.000</td>  \n",
       "</tr>\n",
       "<tr>\n",
       "  <th>Model:</th>                   <td>OLS</td>       <th>  Adj. R-squared:    </th>  <td>   0.000</td>  \n",
       "</tr>\n",
       "<tr>\n",
       "  <th>Method:</th>             <td>Least Squares</td>  <th>  F-statistic:       </th>  <td>   28.12</td>  \n",
       "</tr>\n",
       "<tr>\n",
       "  <th>Date:</th>             <td>Sun, 23 Sep 2018</td> <th>  Prob (F-statistic):</th>  <td>1.15e-07</td>  \n",
       "</tr>\n",
       "<tr>\n",
       "  <th>Time:</th>                 <td>03:03:11</td>     <th>  Log-Likelihood:    </th> <td>-1.2745e+06</td>\n",
       "</tr>\n",
       "<tr>\n",
       "  <th>No. Observations:</th>      <td> 72367</td>      <th>  AIC:               </th>  <td>2.549e+06</td> \n",
       "</tr>\n",
       "<tr>\n",
       "  <th>Df Residuals:</th>          <td> 72365</td>      <th>  BIC:               </th>  <td>2.549e+06</td> \n",
       "</tr>\n",
       "<tr>\n",
       "  <th>Df Model:</th>              <td>     1</td>      <th>                     </th>      <td> </td>     \n",
       "</tr>\n",
       "<tr>\n",
       "  <th>Covariance Type:</th>      <td>nonrobust</td>    <th>                     </th>      <td> </td>     \n",
       "</tr>\n",
       "</table>\n",
       "<table class=\"simpletable\">\n",
       "<tr>\n",
       "          <td></td>             <th>coef</th>     <th>std err</th>      <th>t</th>      <th>P>|t|</th>  <th>[0.025</th>    <th>0.975]</th>  \n",
       "</tr>\n",
       "<tr>\n",
       "  <th>const</th>             <td> 9.774e+04</td> <td> 4.05e+04</td> <td>    2.410</td> <td> 0.016</td> <td> 1.83e+04</td> <td> 1.77e+05</td>\n",
       "</tr>\n",
       "<tr>\n",
       "  <th>numberofemployees</th> <td>    3.7298</td> <td>    0.703</td> <td>    5.302</td> <td> 0.000</td> <td>    2.351</td> <td>    5.108</td>\n",
       "</tr>\n",
       "</table>\n",
       "<table class=\"simpletable\">\n",
       "<tr>\n",
       "  <th>Omnibus:</th>       <td>345663.458</td> <th>  Durbin-Watson:     </th>     <td>   1.998</td>     \n",
       "</tr>\n",
       "<tr>\n",
       "  <th>Prob(Omnibus):</th>   <td> 0.000</td>   <th>  Jarque-Bera (JB):  </th> <td>3653853078961.646</td>\n",
       "</tr>\n",
       "<tr>\n",
       "  <th>Skew:</th>            <td>184.312</td>  <th>  Prob(JB):          </th>     <td>    0.00</td>     \n",
       "</tr>\n",
       "<tr>\n",
       "  <th>Kurtosis:</th>       <td>34811.597</td> <th>  Cond. No.          </th>     <td>5.83e+04</td>     \n",
       "</tr>\n",
       "</table><br/><br/>Warnings:<br/>[1] Standard Errors assume that the covariance matrix of the errors is correctly specified.<br/>[2] The condition number is large, 5.83e+04. This might indicate that there are<br/>strong multicollinearity or other numerical problems."
      ],
      "text/plain": [
       "<class 'statsmodels.iolib.summary.Summary'>\n",
       "\"\"\"\n",
       "                            OLS Regression Results                            \n",
       "==============================================================================\n",
       "Dep. Variable:       dollarsobligated   R-squared:                       0.000\n",
       "Model:                            OLS   Adj. R-squared:                  0.000\n",
       "Method:                 Least Squares   F-statistic:                     28.12\n",
       "Date:                Sun, 23 Sep 2018   Prob (F-statistic):           1.15e-07\n",
       "Time:                        03:03:11   Log-Likelihood:            -1.2745e+06\n",
       "No. Observations:               72367   AIC:                         2.549e+06\n",
       "Df Residuals:                   72365   BIC:                         2.549e+06\n",
       "Df Model:                           1                                         \n",
       "Covariance Type:            nonrobust                                         \n",
       "=====================================================================================\n",
       "                        coef    std err          t      P>|t|      [0.025      0.975]\n",
       "-------------------------------------------------------------------------------------\n",
       "const              9.774e+04   4.05e+04      2.410      0.016    1.83e+04    1.77e+05\n",
       "numberofemployees     3.7298      0.703      5.302      0.000       2.351       5.108\n",
       "==============================================================================\n",
       "Omnibus:                   345663.458   Durbin-Watson:                   1.998\n",
       "Prob(Omnibus):                  0.000   Jarque-Bera (JB):    3653853078961.646\n",
       "Skew:                         184.312   Prob(JB):                         0.00\n",
       "Kurtosis:                   34811.597   Cond. No.                     5.83e+04\n",
       "==============================================================================\n",
       "\n",
       "Warnings:\n",
       "[1] Standard Errors assume that the covariance matrix of the errors is correctly specified.\n",
       "[2] The condition number is large, 5.83e+04. This might indicate that there are\n",
       "strong multicollinearity or other numerical problems.\n",
       "\"\"\""
      ]
     },
     "execution_count": 42,
     "metadata": {},
     "output_type": "execute_result"
    }
   ],
   "source": [
    "model = sm.OLS(y, x).fit()\n",
    "model.summary()"
   ]
  },
  {
   "cell_type": "markdown",
   "metadata": {},
   "source": [
    "### Linear Model (sklearn)"
   ]
  },
  {
   "cell_type": "code",
   "execution_count": 35,
   "metadata": {},
   "outputs": [
    {
     "data": {
      "text/html": [
       "<div>\n",
       "<style scoped>\n",
       "    .dataframe tbody tr th:only-of-type {\n",
       "        vertical-align: middle;\n",
       "    }\n",
       "\n",
       "    .dataframe tbody tr th {\n",
       "        vertical-align: top;\n",
       "    }\n",
       "\n",
       "    .dataframe thead th {\n",
       "        text-align: right;\n",
       "    }\n",
       "</style>\n",
       "<table border=\"1\" class=\"dataframe\">\n",
       "  <thead>\n",
       "    <tr style=\"text-align: right;\">\n",
       "      <th></th>\n",
       "      <th>score</th>\n",
       "      <th>coef</th>\n",
       "      <th>intercept</th>\n",
       "    </tr>\n",
       "  </thead>\n",
       "  <tbody>\n",
       "    <tr>\n",
       "      <th>0</th>\n",
       "      <td>0.000388</td>\n",
       "      <td>0.000000</td>\n",
       "      <td>97738.229635</td>\n",
       "    </tr>\n",
       "    <tr>\n",
       "      <th>1</th>\n",
       "      <td>0.000388</td>\n",
       "      <td>3.729782</td>\n",
       "      <td>97738.229635</td>\n",
       "    </tr>\n",
       "  </tbody>\n",
       "</table>\n",
       "</div>"
      ],
      "text/plain": [
       "      score      coef     intercept\n",
       "0  0.000388  0.000000  97738.229635\n",
       "1  0.000388  3.729782  97738.229635"
      ]
     },
     "execution_count": 35,
     "metadata": {},
     "output_type": "execute_result"
    }
   ],
   "source": [
    "from sklearn import linear_model\n",
    "lm = linear_model.LinearRegression()\n",
    "model2 = lm.fit(x, y)\n",
    "scr = lm.score(x,y)\n",
    "cf = lm.coef_\n",
    "nt = lm.intercept_\n",
    "d = {'score': scr, 'coef': cf, 'intercept':nt}\n",
    "df = pd.DataFrame(data=d)\n",
    "df"
   ]
  },
  {
   "cell_type": "markdown",
   "metadata": {},
   "source": [
    "## A task\n",
    "\n",
    "I'd like to take all of the numeric values and get the minimum values for eachcolumn"
   ]
  },
  {
   "cell_type": "markdown",
   "metadata": {},
   "source": [
    "## Aggregation\n",
    "\n",
    "1. Find the top 1000 companies in total contract amounts\n",
    "2. Of those, find those with the top 100 count of records"
   ]
  },
  {
   "cell_type": "markdown",
   "metadata": {},
   "source": [
    "## Visualization\n",
    "\n",
    "Do a histogram of company size"
   ]
  },
  {
   "cell_type": "markdown",
   "metadata": {},
   "source": [
    "## Using Profiler\n",
    "\n",
    "Find the most highly correlated columns with a correlation less than 1. "
   ]
  },
  {
   "cell_type": "code",
   "execution_count": null,
   "metadata": {},
   "outputs": [],
   "source": []
  }
 ],
 "metadata": {
  "kernelspec": {
   "display_name": "Python 3",
   "language": "python",
   "name": "python3"
  },
  "language_info": {
   "codemirror_mode": {
    "name": "ipython",
    "version": 3
   },
   "file_extension": ".py",
   "mimetype": "text/x-python",
   "name": "python",
   "nbconvert_exporter": "python",
   "pygments_lexer": "ipython3",
   "version": "3.6.3"
  }
 },
 "nbformat": 4,
 "nbformat_minor": 2
}
