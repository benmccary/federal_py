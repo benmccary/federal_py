{
 "cells": [
  {
   "cell_type": "markdown",
   "metadata": {},
   "source": [
    "# Exploratory analysis for federal contractors\n",
    "\n",
    "This is just a simple exploratory analysis to get familiar with the Python language, docker containers, and Jupyter notebooks.  I've downloaded datasets from the [Federal Contractors Database](https://www.usaspending.gov/#/download_center/custom_award_data). For variable types, see the [data dictionary](http://fedspendingtransparency.github.io/dictionary-v1.1/).\n",
    "\n",
    "[Track progress of the project on my trello board](https://trello.com/b/lZYSGp4M/federal-contractors-python)\n",
    "\n",
    "\n",
    "While the goal is simply to get used to Python and some other technologies, I am interested in the specific question of ***what factors are the best predictors of minority owned companies***.  "
   ]
  },
  {
   "cell_type": "markdown",
   "metadata": {},
   "source": [
    "#### Init\n",
    "Read in the data and load packages"
   ]
  },
  {
   "cell_type": "code",
   "execution_count": 3,
   "metadata": {},
   "outputs": [],
   "source": [
    "import pandas as pd\n",
    "import numpy as np\n",
    "import pandas_profiling as pp\n",
    "\n",
    "dat = pd.read_csv('data/2017.csv', low_memory=False)"
   ]
  },
  {
   "cell_type": "markdown",
   "metadata": {},
   "source": [
    "## Profiling"
   ]
  },
  {
   "cell_type": "code",
   "execution_count": 4,
   "metadata": {},
   "outputs": [
    {
     "data": {
      "text/plain": [
       "(72367, 225)"
      ]
     },
     "execution_count": 4,
     "metadata": {},
     "output_type": "execute_result"
    }
   ],
   "source": [
    "dat.shape"
   ]
  },
  {
   "cell_type": "markdown",
   "metadata": {},
   "source": [
    "Since the data has 225 columns and +70k rows, I'm only going to do a profile report on a small subset of the rows.  I'm also going to save the report as an HTML file outside of this analysis.  "
   ]
  },
  {
   "cell_type": "code",
   "execution_count": 5,
   "metadata": {
    "scrolled": false
   },
   "outputs": [],
   "source": [
    "profile = pp.ProfileReport(dat.loc[0:10000])\n",
    "profile.to_file(outputfile = \"profiling/profile.html\")"
   ]
  },
  {
   "cell_type": "code",
   "execution_count": 6,
   "metadata": {},
   "outputs": [],
   "source": [
    "import matplotlib.pyplot as plt\n",
    "cmt = dat.corr()"
   ]
  },
  {
   "cell_type": "markdown",
   "metadata": {},
   "source": [
    "I'm mostly interested in dollars the companies recieve and the size of the company. So I'm going to make a function that checks for a certain level of correlation for the selected variable. The following cells look at:  \n",
    "\n",
    "* Dollars Obligated\n",
    "* Number of Employees\n",
    "* Minority Owned Flag"
   ]
  },
  {
   "cell_type": "code",
   "execution_count": 7,
   "metadata": {},
   "outputs": [],
   "source": [
    "def corMat(dd, corlv, var):\n",
    "    ind = abs(dd[var]) > corlv\n",
    "    return dd.loc[ind, ind]; "
   ]
  },
  {
   "cell_type": "code",
   "execution_count": 8,
   "metadata": {},
   "outputs": [
    {
     "data": {
      "text/plain": [
       "dollarsobligated                         1.000000\n",
       "baseandexercisedoptionsvalue             0.967203\n",
       "baseandalloptionsvalue                   0.861076\n",
       "progsourcesubacct                       -0.076980\n",
       "prime_awardee_executive1_compensation   -0.084980\n",
       "prime_awardee_executive2_compensation   -0.072067\n",
       "prime_awardee_executive3_compensation   -0.071098\n",
       "prime_awardee_executive4_compensation   -0.071617\n",
       "prime_awardee_executive5_compensation   -0.065659\n",
       "Name: dollarsobligated, dtype: float64"
      ]
     },
     "execution_count": 8,
     "metadata": {},
     "output_type": "execute_result"
    }
   ],
   "source": [
    "corMat(cmt,0.05, \"dollarsobligated\").dollarsobligated"
   ]
  },
  {
   "cell_type": "code",
   "execution_count": 9,
   "metadata": {
    "scrolled": true
   },
   "outputs": [
    {
     "data": {
      "text/plain": [
       "progsourceagency                             -0.068632\n",
       "progsourcesubacct                            -0.112453\n",
       "ccrexception                                 -0.357217\n",
       "vendor_cd                                     0.093742\n",
       "congressionaldistrict                         0.093742\n",
       "placeofperformancezipcode                    -0.145658\n",
       "transactionnumber                             0.100897\n",
       "numberofemployees                             1.000000\n",
       "veteranownedflag                             -0.077613\n",
       "receivescontracts                             0.077046\n",
       "issubchapterscorporation                     -0.124280\n",
       "islimitedliabilitycorporation                 0.051856\n",
       "ispartnershiporlimitedliabilitypartnership    0.057622\n",
       "prime_awardee_executive1_compensation         0.975024\n",
       "prime_awardee_executive2_compensation         0.980690\n",
       "prime_awardee_executive3_compensation         0.972878\n",
       "prime_awardee_executive4_compensation         0.963208\n",
       "prime_awardee_executive5_compensation         0.973902\n",
       "Name: numberofemployees, dtype: float64"
      ]
     },
     "execution_count": 9,
     "metadata": {},
     "output_type": "execute_result"
    }
   ],
   "source": [
    "corMat(cmt,0.05, \"numberofemployees\").numberofemployees"
   ]
  },
  {
   "cell_type": "code",
   "execution_count": 10,
   "metadata": {},
   "outputs": [
    {
     "data": {
      "text/plain": [
       "progsourcesubacct                               -0.288274\n",
       "placeofperformancezipcode                        0.255004\n",
       "firm8aflag                                       0.316287\n",
       "minorityownedbusinessflag                        1.000000\n",
       "apaobflag                                        0.614026\n",
       "baobflag                                         0.329557\n",
       "naobflag                                         0.263247\n",
       "haobflag                                         0.269490\n",
       "isdotcertifieddisadvantagedbusinessenterprise    0.270052\n",
       "prime_awardee_executive1_compensation           -0.337572\n",
       "prime_awardee_executive2_compensation           -0.375064\n",
       "prime_awardee_executive3_compensation           -0.398767\n",
       "prime_awardee_executive4_compensation           -0.446047\n",
       "prime_awardee_executive5_compensation           -0.400471\n",
       "Name: minorityownedbusinessflag, dtype: float64"
      ]
     },
     "execution_count": 10,
     "metadata": {},
     "output_type": "execute_result"
    }
   ],
   "source": [
    "corMat(cmt,0.25, \"minorityownedbusinessflag\").minorityownedbusinessflag"
   ]
  },
  {
   "cell_type": "markdown",
   "metadata": {},
   "source": [
    "The minority owned business flag shows several interesting correlations:  \n",
    "\n",
    "1. apaobflag, baobflag, naobflag, and haobflag are just subtypes of minority flags: Asian Pacific American, Black American, Native American, and Hispanic American, respectively. (Thus they're not particularly interesting. \n",
    "2. firm8aflag is for 8(a) Program Participant Organizations, which is a program for small, underpriviledged companies. \n",
    "3. DOT certified disadvantaged companies has a slightly smaller correlation. \n",
    "4. All ofthe executive compensations have a negative correlation, meaning that as executive compensation goes up, the likelihood of being minority owned is smaller."
   ]
  },
  {
   "cell_type": "code",
   "execution_count": 11,
   "metadata": {},
   "outputs": [],
   "source": [
    "# dat.prime_awardee_executive1_compensation.describe()"
   ]
  },
  {
   "cell_type": "markdown",
   "metadata": {},
   "source": [
    "## Aggregation\n",
    "\n",
    "I need to aggregate the awards based on company. Some companies have a lot of awards, so it could mess with things.  I'm also interested in adding a column that shows the count of awards for companies since that might be a good predictor of minority owned businesses. \n",
    "\n",
    "My hunch is that minority owned businesses are smaller than average, and have lower executive compensation/annual revenue than average. "
   ]
  },
  {
   "cell_type": "code",
   "execution_count": 35,
   "metadata": {},
   "outputs": [
    {
     "data": {
      "text/html": [
       "<div>\n",
       "<style scoped>\n",
       "    .dataframe tbody tr th:only-of-type {\n",
       "        vertical-align: middle;\n",
       "    }\n",
       "\n",
       "    .dataframe tbody tr th {\n",
       "        vertical-align: top;\n",
       "    }\n",
       "\n",
       "    .dataframe thead tr th {\n",
       "        text-align: left;\n",
       "    }\n",
       "\n",
       "    .dataframe thead tr:last-of-type th {\n",
       "        text-align: right;\n",
       "    }\n",
       "</style>\n",
       "<table border=\"1\" class=\"dataframe\">\n",
       "  <thead>\n",
       "    <tr>\n",
       "      <th></th>\n",
       "      <th></th>\n",
       "      <th colspan=\"3\" halign=\"left\">dollarsobligated</th>\n",
       "    </tr>\n",
       "    <tr>\n",
       "      <th></th>\n",
       "      <th></th>\n",
       "      <th>sum</th>\n",
       "      <th>mean</th>\n",
       "      <th>count</th>\n",
       "    </tr>\n",
       "    <tr>\n",
       "      <th>vendorname</th>\n",
       "      <th>minorityownedbusinessflag</th>\n",
       "      <th></th>\n",
       "      <th></th>\n",
       "      <th></th>\n",
       "    </tr>\n",
       "  </thead>\n",
       "  <tbody>\n",
       "    <tr>\n",
       "      <th>ZONES, INC.</th>\n",
       "      <th>True</th>\n",
       "      <td>71462.18</td>\n",
       "      <td>6496.561818</td>\n",
       "      <td>11</td>\n",
       "    </tr>\n",
       "    <tr>\n",
       "      <th>ZIPPY DISPOSAL SERVICE, INC.</th>\n",
       "      <th>False</th>\n",
       "      <td>16193.15</td>\n",
       "      <td>8096.575000</td>\n",
       "      <td>2</td>\n",
       "    </tr>\n",
       "    <tr>\n",
       "      <th>ZILA WORKS LLC</th>\n",
       "      <th>True</th>\n",
       "      <td>99671.00</td>\n",
       "      <td>99671.000000</td>\n",
       "      <td>1</td>\n",
       "    </tr>\n",
       "    <tr>\n",
       "      <th>ZIEMEK DENTAL LABORATORY, INC.</th>\n",
       "      <th>False</th>\n",
       "      <td>382110.00</td>\n",
       "      <td>382110.000000</td>\n",
       "      <td>1</td>\n",
       "    </tr>\n",
       "    <tr>\n",
       "      <th>ZETEC, INC.</th>\n",
       "      <th>False</th>\n",
       "      <td>2045349.00</td>\n",
       "      <td>70529.275862</td>\n",
       "      <td>29</td>\n",
       "    </tr>\n",
       "    <tr>\n",
       "      <th>ZEMAX, LLC</th>\n",
       "      <th>False</th>\n",
       "      <td>112226.00</td>\n",
       "      <td>7014.125000</td>\n",
       "      <td>16</td>\n",
       "    </tr>\n",
       "    <tr>\n",
       "      <th>ZBA ARCHITECTURE PS</th>\n",
       "      <th>False</th>\n",
       "      <td>-1074.86</td>\n",
       "      <td>-1074.860000</td>\n",
       "      <td>1</td>\n",
       "    </tr>\n",
       "    <tr>\n",
       "      <th>ZANOL CONSULTING INCORPORATED</th>\n",
       "      <th>False</th>\n",
       "      <td>-38564.92</td>\n",
       "      <td>-19282.460000</td>\n",
       "      <td>2</td>\n",
       "    </tr>\n",
       "    <tr>\n",
       "      <th>ZAHL, ERIC</th>\n",
       "      <th>False</th>\n",
       "      <td>24600.00</td>\n",
       "      <td>24600.000000</td>\n",
       "      <td>1</td>\n",
       "    </tr>\n",
       "  </tbody>\n",
       "</table>\n",
       "</div>"
      ],
      "text/plain": [
       "                                                         dollarsobligated  \\\n",
       "                                                                      sum   \n",
       "vendorname                     minorityownedbusinessflag                    \n",
       "ZONES, INC.                    True                              71462.18   \n",
       "ZIPPY DISPOSAL SERVICE, INC.   False                             16193.15   \n",
       "ZILA WORKS LLC                 True                              99671.00   \n",
       "ZIEMEK DENTAL LABORATORY, INC. False                            382110.00   \n",
       "ZETEC, INC.                    False                           2045349.00   \n",
       "ZEMAX, LLC                     False                            112226.00   \n",
       "ZBA ARCHITECTURE PS            False                             -1074.86   \n",
       "ZANOL CONSULTING INCORPORATED  False                            -38564.92   \n",
       "ZAHL, ERIC                     False                             24600.00   \n",
       "\n",
       "                                                                               \n",
       "                                                                   mean count  \n",
       "vendorname                     minorityownedbusinessflag                       \n",
       "ZONES, INC.                    True                         6496.561818    11  \n",
       "ZIPPY DISPOSAL SERVICE, INC.   False                        8096.575000     2  \n",
       "ZILA WORKS LLC                 True                        99671.000000     1  \n",
       "ZIEMEK DENTAL LABORATORY, INC. False                      382110.000000     1  \n",
       "ZETEC, INC.                    False                       70529.275862    29  \n",
       "ZEMAX, LLC                     False                        7014.125000    16  \n",
       "ZBA ARCHITECTURE PS            False                       -1074.860000     1  \n",
       "ZANOL CONSULTING INCORPORATED  False                      -19282.460000     2  \n",
       "ZAHL, ERIC                     False                       24600.000000     1  "
      ]
     },
     "execution_count": 35,
     "metadata": {},
     "output_type": "execute_result"
    }
   ],
   "source": [
    "# sum of dollars obligated\n",
    "grp = ['vendorname', 'minorityownedbusinessflag']\n",
    "aggDollars = dat.groupby(grp)[['dollarsobligated']].agg(['sum', 'mean','count'])\n",
    "aggDollars.sort_values([('vendorname')], ascending=False)[0:9]"
   ]
  },
  {
   "cell_type": "code",
   "execution_count": 36,
   "metadata": {
    "scrolled": true
   },
   "outputs": [
    {
     "data": {
      "text/html": [
       "<div>\n",
       "<style scoped>\n",
       "    .dataframe tbody tr th:only-of-type {\n",
       "        vertical-align: middle;\n",
       "    }\n",
       "\n",
       "    .dataframe tbody tr th {\n",
       "        vertical-align: top;\n",
       "    }\n",
       "\n",
       "    .dataframe thead tr th {\n",
       "        text-align: left;\n",
       "    }\n",
       "\n",
       "    .dataframe thead tr:last-of-type th {\n",
       "        text-align: right;\n",
       "    }\n",
       "</style>\n",
       "<table border=\"1\" class=\"dataframe\">\n",
       "  <thead>\n",
       "    <tr>\n",
       "      <th></th>\n",
       "      <th></th>\n",
       "      <th>prime_awardee_executive1_compensation</th>\n",
       "    </tr>\n",
       "    <tr>\n",
       "      <th></th>\n",
       "      <th></th>\n",
       "      <th>mean</th>\n",
       "    </tr>\n",
       "    <tr>\n",
       "      <th>vendorname</th>\n",
       "      <th>minorityownedbusinessflag</th>\n",
       "      <th></th>\n",
       "    </tr>\n",
       "  </thead>\n",
       "  <tbody>\n",
       "    <tr>\n",
       "      <th>ZONES, INC.</th>\n",
       "      <th>True</th>\n",
       "      <td>NaN</td>\n",
       "    </tr>\n",
       "    <tr>\n",
       "      <th>ZIPPY DISPOSAL SERVICE, INC.</th>\n",
       "      <th>False</th>\n",
       "      <td>NaN</td>\n",
       "    </tr>\n",
       "    <tr>\n",
       "      <th>ZILA WORKS LLC</th>\n",
       "      <th>True</th>\n",
       "      <td>NaN</td>\n",
       "    </tr>\n",
       "    <tr>\n",
       "      <th>ZIEMEK DENTAL LABORATORY, INC.</th>\n",
       "      <th>False</th>\n",
       "      <td>NaN</td>\n",
       "    </tr>\n",
       "    <tr>\n",
       "      <th>ZETEC, INC.</th>\n",
       "      <th>False</th>\n",
       "      <td>NaN</td>\n",
       "    </tr>\n",
       "    <tr>\n",
       "      <th>ZEMAX, LLC</th>\n",
       "      <th>False</th>\n",
       "      <td>NaN</td>\n",
       "    </tr>\n",
       "    <tr>\n",
       "      <th>ZBA ARCHITECTURE PS</th>\n",
       "      <th>False</th>\n",
       "      <td>NaN</td>\n",
       "    </tr>\n",
       "    <tr>\n",
       "      <th>ZANOL CONSULTING INCORPORATED</th>\n",
       "      <th>False</th>\n",
       "      <td>NaN</td>\n",
       "    </tr>\n",
       "    <tr>\n",
       "      <th>ZAHL, ERIC</th>\n",
       "      <th>False</th>\n",
       "      <td>NaN</td>\n",
       "    </tr>\n",
       "  </tbody>\n",
       "</table>\n",
       "</div>"
      ],
      "text/plain": [
       "                                                         prime_awardee_executive1_compensation\n",
       "                                                                                          mean\n",
       "vendorname                     minorityownedbusinessflag                                      \n",
       "ZONES, INC.                    True                                                        NaN\n",
       "ZIPPY DISPOSAL SERVICE, INC.   False                                                       NaN\n",
       "ZILA WORKS LLC                 True                                                        NaN\n",
       "ZIEMEK DENTAL LABORATORY, INC. False                                                       NaN\n",
       "ZETEC, INC.                    False                                                       NaN\n",
       "ZEMAX, LLC                     False                                                       NaN\n",
       "ZBA ARCHITECTURE PS            False                                                       NaN\n",
       "ZANOL CONSULTING INCORPORATED  False                                                       NaN\n",
       "ZAHL, ERIC                     False                                                       NaN"
      ]
     },
     "execution_count": 36,
     "metadata": {},
     "output_type": "execute_result"
    }
   ],
   "source": [
    "# mean of prime_awardee_executive1_compensation\n",
    "aggExec = dat.groupby(grp)[['prime_awardee_executive1_compensation']].agg(['mean'])\n",
    "aggExec.sort_values([('vendorname')], ascending=False)[0:9]"
   ]
  },
  {
   "cell_type": "code",
   "execution_count": 117,
   "metadata": {
    "scrolled": true
   },
   "outputs": [
    {
     "data": {
      "text/html": [
       "<div>\n",
       "<style scoped>\n",
       "    .dataframe tbody tr th:only-of-type {\n",
       "        vertical-align: middle;\n",
       "    }\n",
       "\n",
       "    .dataframe tbody tr th {\n",
       "        vertical-align: top;\n",
       "    }\n",
       "\n",
       "    .dataframe thead tr th {\n",
       "        text-align: left;\n",
       "    }\n",
       "\n",
       "    .dataframe thead tr:last-of-type th {\n",
       "        text-align: right;\n",
       "    }\n",
       "</style>\n",
       "<table border=\"1\" class=\"dataframe\">\n",
       "  <thead>\n",
       "    <tr>\n",
       "      <th></th>\n",
       "      <th></th>\n",
       "      <th>numberofemployees</th>\n",
       "    </tr>\n",
       "    <tr>\n",
       "      <th></th>\n",
       "      <th></th>\n",
       "      <th>median</th>\n",
       "    </tr>\n",
       "    <tr>\n",
       "      <th>vendorname</th>\n",
       "      <th>minorityownedbusinessflag</th>\n",
       "      <th></th>\n",
       "    </tr>\n",
       "  </thead>\n",
       "  <tbody>\n",
       "    <tr>\n",
       "      <th>ZONES, INC.</th>\n",
       "      <th>True</th>\n",
       "      <td>1011.0</td>\n",
       "    </tr>\n",
       "    <tr>\n",
       "      <th>ZIPPY DISPOSAL SERVICE, INC.</th>\n",
       "      <th>False</th>\n",
       "      <td>8.0</td>\n",
       "    </tr>\n",
       "    <tr>\n",
       "      <th>ZILA WORKS LLC</th>\n",
       "      <th>True</th>\n",
       "      <td>6.0</td>\n",
       "    </tr>\n",
       "    <tr>\n",
       "      <th>ZIEMEK DENTAL LABORATORY, INC.</th>\n",
       "      <th>False</th>\n",
       "      <td>49.0</td>\n",
       "    </tr>\n",
       "    <tr>\n",
       "      <th>ZETEC, INC.</th>\n",
       "      <th>False</th>\n",
       "      <td>10806.0</td>\n",
       "    </tr>\n",
       "    <tr>\n",
       "      <th>ZEMAX, LLC</th>\n",
       "      <th>False</th>\n",
       "      <td>35.0</td>\n",
       "    </tr>\n",
       "    <tr>\n",
       "      <th>ZBA ARCHITECTURE PS</th>\n",
       "      <th>False</th>\n",
       "      <td>10.0</td>\n",
       "    </tr>\n",
       "    <tr>\n",
       "      <th>ZANOL CONSULTING INCORPORATED</th>\n",
       "      <th>False</th>\n",
       "      <td>1.0</td>\n",
       "    </tr>\n",
       "    <tr>\n",
       "      <th>ZAHL, ERIC</th>\n",
       "      <th>False</th>\n",
       "      <td>0.0</td>\n",
       "    </tr>\n",
       "  </tbody>\n",
       "</table>\n",
       "</div>"
      ],
      "text/plain": [
       "                                                         numberofemployees\n",
       "                                                                    median\n",
       "vendorname                     minorityownedbusinessflag                  \n",
       "ZONES, INC.                    True                                 1011.0\n",
       "ZIPPY DISPOSAL SERVICE, INC.   False                                   8.0\n",
       "ZILA WORKS LLC                 True                                    6.0\n",
       "ZIEMEK DENTAL LABORATORY, INC. False                                  49.0\n",
       "ZETEC, INC.                    False                               10806.0\n",
       "ZEMAX, LLC                     False                                  35.0\n",
       "ZBA ARCHITECTURE PS            False                                  10.0\n",
       "ZANOL CONSULTING INCORPORATED  False                                   1.0\n",
       "ZAHL, ERIC                     False                                   0.0"
      ]
     },
     "execution_count": 117,
     "metadata": {},
     "output_type": "execute_result"
    }
   ],
   "source": [
    "# mean employeenumber\n",
    "aggEmps = dat.groupby(grp)[['numberofemployees']].agg(['median'])\n",
    "aggEmps.sort_values([('vendorname')], ascending=False)[0:9]"
   ]
  },
  {
   "cell_type": "code",
   "execution_count": 118,
   "metadata": {},
   "outputs": [
    {
     "data": {
      "text/html": [
       "<div>\n",
       "<style scoped>\n",
       "    .dataframe tbody tr th:only-of-type {\n",
       "        vertical-align: middle;\n",
       "    }\n",
       "\n",
       "    .dataframe tbody tr th {\n",
       "        vertical-align: top;\n",
       "    }\n",
       "\n",
       "    .dataframe thead tr th {\n",
       "        text-align: left;\n",
       "    }\n",
       "\n",
       "    .dataframe thead tr:last-of-type th {\n",
       "        text-align: right;\n",
       "    }\n",
       "</style>\n",
       "<table border=\"1\" class=\"dataframe\">\n",
       "  <thead>\n",
       "    <tr>\n",
       "      <th></th>\n",
       "      <th colspan=\"3\" halign=\"left\">dollarsobligated</th>\n",
       "      <th>prime_awardee_executive1_compensation</th>\n",
       "      <th>numberofemployees</th>\n",
       "    </tr>\n",
       "    <tr>\n",
       "      <th></th>\n",
       "      <th>sum</th>\n",
       "      <th>mean</th>\n",
       "      <th>count</th>\n",
       "      <th>mean</th>\n",
       "      <th>median</th>\n",
       "    </tr>\n",
       "    <tr>\n",
       "      <th>vendorname</th>\n",
       "      <th></th>\n",
       "      <th></th>\n",
       "      <th></th>\n",
       "      <th></th>\n",
       "      <th></th>\n",
       "    </tr>\n",
       "  </thead>\n",
       "  <tbody>\n",
       "    <tr>\n",
       "      <th>AMAZON.COM LLC</th>\n",
       "      <td>1.207374e+05</td>\n",
       "      <td>2.874700e+03</td>\n",
       "      <td>42</td>\n",
       "      <td>NaN</td>\n",
       "      <td>2308000.0</td>\n",
       "    </tr>\n",
       "    <tr>\n",
       "      <th>NEW CINGULAR WIRELESS SERVICES, INC.</th>\n",
       "      <td>7.692881e+06</td>\n",
       "      <td>3.808357e+04</td>\n",
       "      <td>202</td>\n",
       "      <td>NaN</td>\n",
       "      <td>304000.0</td>\n",
       "    </tr>\n",
       "    <tr>\n",
       "      <th>ALSTOM GRID LLC</th>\n",
       "      <td>2.788944e+05</td>\n",
       "      <td>9.296480e+04</td>\n",
       "      <td>3</td>\n",
       "      <td>NaN</td>\n",
       "      <td>300000.0</td>\n",
       "    </tr>\n",
       "    <tr>\n",
       "      <th>ARAMARK UNIFORM &amp;amp; CAREER APPAREL, LLC.</th>\n",
       "      <td>3.236124e+04</td>\n",
       "      <td>3.236124e+04</td>\n",
       "      <td>1</td>\n",
       "      <td>NaN</td>\n",
       "      <td>250000.0</td>\n",
       "    </tr>\n",
       "    <tr>\n",
       "      <th>ARAMARK UNIFORM &amp; CAREER APPAREL, LLC.</th>\n",
       "      <td>2.294863e+05</td>\n",
       "      <td>1.274924e+04</td>\n",
       "      <td>18</td>\n",
       "      <td>NaN</td>\n",
       "      <td>240000.0</td>\n",
       "    </tr>\n",
       "    <tr>\n",
       "      <th>AMAZON WEB SERVICES, INC.</th>\n",
       "      <td>4.800000e+04</td>\n",
       "      <td>4.800000e+04</td>\n",
       "      <td>1</td>\n",
       "      <td>NaN</td>\n",
       "      <td>230800.0</td>\n",
       "    </tr>\n",
       "    <tr>\n",
       "      <th>THE BOEING COMPANY</th>\n",
       "      <td>5.445673e+09</td>\n",
       "      <td>9.537080e+06</td>\n",
       "      <td>571</td>\n",
       "      <td>NaN</td>\n",
       "      <td>160000.0</td>\n",
       "    </tr>\n",
       "    <tr>\n",
       "      <th>INSITU, INC.</th>\n",
       "      <td>3.171731e+08</td>\n",
       "      <td>1.771917e+06</td>\n",
       "      <td>179</td>\n",
       "      <td>NaN</td>\n",
       "      <td>160000.0</td>\n",
       "    </tr>\n",
       "    <tr>\n",
       "      <th>BOEING COMPANY, THE</th>\n",
       "      <td>3.668779e+06</td>\n",
       "      <td>1.048223e+05</td>\n",
       "      <td>35</td>\n",
       "      <td>NaN</td>\n",
       "      <td>159000.0</td>\n",
       "    </tr>\n",
       "  </tbody>\n",
       "</table>\n",
       "</div>"
      ],
      "text/plain": [
       "                                           dollarsobligated                \\\n",
       "                                                        sum          mean   \n",
       "vendorname                                                                  \n",
       "AMAZON.COM LLC                                 1.207374e+05  2.874700e+03   \n",
       "NEW CINGULAR WIRELESS SERVICES, INC.           7.692881e+06  3.808357e+04   \n",
       "ALSTOM GRID LLC                                2.788944e+05  9.296480e+04   \n",
       "ARAMARK UNIFORM &amp; CAREER APPAREL, LLC.     3.236124e+04  3.236124e+04   \n",
       "ARAMARK UNIFORM & CAREER APPAREL, LLC.         2.294863e+05  1.274924e+04   \n",
       "AMAZON WEB SERVICES, INC.                      4.800000e+04  4.800000e+04   \n",
       "THE BOEING COMPANY                             5.445673e+09  9.537080e+06   \n",
       "INSITU, INC.                                   3.171731e+08  1.771917e+06   \n",
       "BOEING COMPANY, THE                            3.668779e+06  1.048223e+05   \n",
       "\n",
       "                                                  \\\n",
       "                                           count   \n",
       "vendorname                                         \n",
       "AMAZON.COM LLC                                42   \n",
       "NEW CINGULAR WIRELESS SERVICES, INC.         202   \n",
       "ALSTOM GRID LLC                                3   \n",
       "ARAMARK UNIFORM &amp; CAREER APPAREL, LLC.     1   \n",
       "ARAMARK UNIFORM & CAREER APPAREL, LLC.        18   \n",
       "AMAZON WEB SERVICES, INC.                      1   \n",
       "THE BOEING COMPANY                           571   \n",
       "INSITU, INC.                                 179   \n",
       "BOEING COMPANY, THE                           35   \n",
       "\n",
       "                                           prime_awardee_executive1_compensation  \\\n",
       "                                                                            mean   \n",
       "vendorname                                                                         \n",
       "AMAZON.COM LLC                                                               NaN   \n",
       "NEW CINGULAR WIRELESS SERVICES, INC.                                         NaN   \n",
       "ALSTOM GRID LLC                                                              NaN   \n",
       "ARAMARK UNIFORM &amp; CAREER APPAREL, LLC.                                   NaN   \n",
       "ARAMARK UNIFORM & CAREER APPAREL, LLC.                                       NaN   \n",
       "AMAZON WEB SERVICES, INC.                                                    NaN   \n",
       "THE BOEING COMPANY                                                           NaN   \n",
       "INSITU, INC.                                                                 NaN   \n",
       "BOEING COMPANY, THE                                                          NaN   \n",
       "\n",
       "                                           numberofemployees  \n",
       "                                                      median  \n",
       "vendorname                                                    \n",
       "AMAZON.COM LLC                                     2308000.0  \n",
       "NEW CINGULAR WIRELESS SERVICES, INC.                304000.0  \n",
       "ALSTOM GRID LLC                                     300000.0  \n",
       "ARAMARK UNIFORM &amp; CAREER APPAREL, LLC.          250000.0  \n",
       "ARAMARK UNIFORM & CAREER APPAREL, LLC.              240000.0  \n",
       "AMAZON WEB SERVICES, INC.                           230800.0  \n",
       "THE BOEING COMPANY                                  160000.0  \n",
       "INSITU, INC.                                        160000.0  \n",
       "BOEING COMPANY, THE                                 159000.0  "
      ]
     },
     "execution_count": 118,
     "metadata": {},
     "output_type": "execute_result"
    }
   ],
   "source": [
    "# Now join the three data sets\n",
    "aggs = [aggDollars, aggExec]\n",
    "aggs = pd.merge(aggDollars, aggExec, on='vendorname')\n",
    "aggs = pd.merge(aggs, aggEmps, on='vendorname')\n",
    "\n",
    "aggs.sort_values([('numberofemployees', 'median')], ascending=False)[0:9]\n",
    "\n"
   ]
  },
  {
   "cell_type": "markdown",
   "metadata": {},
   "source": [
    "There is clearly something going on with the number of employees. I'll treat that as a caveat for now. I can't really use it, but this is all just a use case for me to get familiar with python. \n",
    "\n",
    "I could scrub the SEC website to find all company CIK numbers (only for publicly traded ones), then scrub through all of their 10-k forms to find their employee counts as of 12/30/2017...but that's a lot of web scraping at this stage. \n",
    "\n",
    "Instead, I'm going to bucket the companies by employee count size. That way I can just say that any company with more than 500,000 employees is in the largest group. \n",
    "\n",
    "SEC had Cingular Wireless with [65,000 employees in 2005](https://www.sec.gov/Archives/edgar/data/1130452/000095014406001479/g99532e10vk.htm). This says 304,000 (median) in 2017. [AT&T has 268,000 employees](https://www.sec.gov/Archives/edgar/data/732717/000073271717000021/ye16_10k.htm), so maybe that's what's going on.  \n",
    "\n",
    "With that said, [Boeing is correct](https://www.sec.gov/Archives/edgar/data/12927/000001292717000006/a201612dec3110k.htm).\n",
    "\n",
    "## Assigning Buckets to Employee Count"
   ]
  },
  {
   "cell_type": "code",
   "execution_count": null,
   "metadata": {},
   "outputs": [],
   "source": [
    "# assign buckets to employee count"
   ]
  },
  {
   "cell_type": "markdown",
   "metadata": {},
   "source": [
    "## Add Rural/Urban flag\n",
    "\n",
    "This dataset includes zip codes and address, but that's not good as a categorical variable. I'd like to create one, but I'm going to have to figure out the best way to do it. On other projects I've had to look up population statistics from the US Census, then join those in based on FIPS codes. We'll see if that's necessary here. "
   ]
  },
  {
   "cell_type": "markdown",
   "metadata": {},
   "source": [
    "## Logistic Regression\n",
    "\n",
    "I'd like to do a logistic regression for a few of the variables above to see if they predict minority owned business"
   ]
  }
 ],
 "metadata": {
  "kernelspec": {
   "display_name": "Python 3",
   "language": "python",
   "name": "python3"
  },
  "language_info": {
   "codemirror_mode": {
    "name": "ipython",
    "version": 3
   },
   "file_extension": ".py",
   "mimetype": "text/x-python",
   "name": "python",
   "nbconvert_exporter": "python",
   "pygments_lexer": "ipython3",
   "version": "3.6.3"
  }
 },
 "nbformat": 4,
 "nbformat_minor": 2
}
