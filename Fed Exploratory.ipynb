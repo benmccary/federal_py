{
 "cells": [
  {
   "cell_type": "markdown",
   "metadata": {},
   "source": [
    "# Exploratory analysis for federal contractors\n",
    "\n",
    "This is just a simple exploratory analysis to get familiar with the Python language, docker containers, and Jupyter notebooks.  I've downloaded datasets from the [Federal Contractors Database](https://www.usaspending.gov/#/download_center/custom_award_data). For variable types, see the [data dictionary](http://fedspendingtransparency.github.io/dictionary-v1.1/).\n",
    "\n",
    "[Track progress of the project on my trello board](https://trello.com/b/lZYSGp4M/federal-contractors-python)\n",
    "\n",
    "\n",
    "While the goal is simply to get used to Python and some other technologies, I am interested in the specific question of ***what factors are the best predictors of minority owned companies***.  "
   ]
  },
  {
   "cell_type": "markdown",
   "metadata": {},
   "source": [
    "#### Init\n",
    "Read in the data and load packages"
   ]
  },
  {
   "cell_type": "code",
   "execution_count": 1,
   "metadata": {},
   "outputs": [],
   "source": [
    "import pandas as pd\n",
    "import numpy as np\n",
    "import pandas_profiling as pp\n",
    "\n",
    "dat = pd.read_csv('data/2017.csv', low_memory=False)"
   ]
  },
  {
   "cell_type": "markdown",
   "metadata": {},
   "source": [
    "## Profiling"
   ]
  },
  {
   "cell_type": "code",
   "execution_count": 2,
   "metadata": {},
   "outputs": [
    {
     "data": {
      "text/plain": [
       "(72367, 225)"
      ]
     },
     "execution_count": 2,
     "metadata": {},
     "output_type": "execute_result"
    }
   ],
   "source": [
    "dat.shape"
   ]
  },
  {
   "cell_type": "markdown",
   "metadata": {},
   "source": [
    "Since the data has 225 columns and +70k rows, I'm only going to do a profile report on a small subset of the rows.  I'm also going to save the report as an HTML file outside of this analysis.  "
   ]
  },
  {
   "cell_type": "code",
   "execution_count": 3,
   "metadata": {
    "scrolled": false
   },
   "outputs": [],
   "source": [
    "profile = pp.ProfileReport(dat.loc[0:10000])\n",
    "profile.to_file(outputfile = \"profiling/profile.html\")"
   ]
  },
  {
   "cell_type": "code",
   "execution_count": 4,
   "metadata": {},
   "outputs": [],
   "source": [
    "import matplotlib.pyplot as plt\n",
    "cmt = dat.corr()"
   ]
  },
  {
   "cell_type": "markdown",
   "metadata": {},
   "source": [
    "I'm mostly interested in dollars the companies recieve and the size of the company. So I'm going to make a function that checks for a certain level of correlation for the selected variable. The following cells look at:  \n",
    "\n",
    "* Dollars Obligated\n",
    "* Number of Employees\n",
    "* Minority Owned Flag"
   ]
  },
  {
   "cell_type": "code",
   "execution_count": 5,
   "metadata": {},
   "outputs": [],
   "source": [
    "def corMat(dd, corlv, var):\n",
    "    ind = abs(dd[var]) > corlv\n",
    "    return dd.loc[ind, ind]; "
   ]
  },
  {
   "cell_type": "code",
   "execution_count": 6,
   "metadata": {},
   "outputs": [
    {
     "data": {
      "text/plain": [
       "dollarsobligated                         1.000000\n",
       "baseandexercisedoptionsvalue             0.967203\n",
       "baseandalloptionsvalue                   0.861076\n",
       "progsourcesubacct                       -0.076980\n",
       "prime_awardee_executive1_compensation   -0.084980\n",
       "prime_awardee_executive2_compensation   -0.072067\n",
       "prime_awardee_executive3_compensation   -0.071098\n",
       "prime_awardee_executive4_compensation   -0.071617\n",
       "prime_awardee_executive5_compensation   -0.065659\n",
       "Name: dollarsobligated, dtype: float64"
      ]
     },
     "execution_count": 6,
     "metadata": {},
     "output_type": "execute_result"
    }
   ],
   "source": [
    "corMat(cmt,0.05, \"dollarsobligated\").dollarsobligated"
   ]
  },
  {
   "cell_type": "code",
   "execution_count": 7,
   "metadata": {
    "scrolled": true
   },
   "outputs": [
    {
     "data": {
      "text/plain": [
       "progsourceagency                             -0.068632\n",
       "progsourcesubacct                            -0.112453\n",
       "ccrexception                                 -0.357217\n",
       "vendor_cd                                     0.093742\n",
       "congressionaldistrict                         0.093742\n",
       "placeofperformancezipcode                    -0.145658\n",
       "transactionnumber                             0.100897\n",
       "numberofemployees                             1.000000\n",
       "veteranownedflag                             -0.077613\n",
       "receivescontracts                             0.077046\n",
       "issubchapterscorporation                     -0.124280\n",
       "islimitedliabilitycorporation                 0.051856\n",
       "ispartnershiporlimitedliabilitypartnership    0.057622\n",
       "prime_awardee_executive1_compensation         0.975024\n",
       "prime_awardee_executive2_compensation         0.980690\n",
       "prime_awardee_executive3_compensation         0.972878\n",
       "prime_awardee_executive4_compensation         0.963208\n",
       "prime_awardee_executive5_compensation         0.973902\n",
       "Name: numberofemployees, dtype: float64"
      ]
     },
     "execution_count": 7,
     "metadata": {},
     "output_type": "execute_result"
    }
   ],
   "source": [
    "corMat(cmt,0.05, \"numberofemployees\").numberofemployees"
   ]
  },
  {
   "cell_type": "code",
   "execution_count": 8,
   "metadata": {},
   "outputs": [
    {
     "data": {
      "text/plain": [
       "progsourcesubacct                               -0.288274\n",
       "placeofperformancezipcode                        0.255004\n",
       "firm8aflag                                       0.316287\n",
       "minorityownedbusinessflag                        1.000000\n",
       "apaobflag                                        0.614026\n",
       "baobflag                                         0.329557\n",
       "naobflag                                         0.263247\n",
       "haobflag                                         0.269490\n",
       "isdotcertifieddisadvantagedbusinessenterprise    0.270052\n",
       "prime_awardee_executive1_compensation           -0.337572\n",
       "prime_awardee_executive2_compensation           -0.375064\n",
       "prime_awardee_executive3_compensation           -0.398767\n",
       "prime_awardee_executive4_compensation           -0.446047\n",
       "prime_awardee_executive5_compensation           -0.400471\n",
       "Name: minorityownedbusinessflag, dtype: float64"
      ]
     },
     "execution_count": 8,
     "metadata": {},
     "output_type": "execute_result"
    }
   ],
   "source": [
    "corMat(cmt,0.25, \"minorityownedbusinessflag\").minorityownedbusinessflag"
   ]
  },
  {
   "cell_type": "markdown",
   "metadata": {},
   "source": [
    "The minority owned business flag shows several interesting correlations:  \n",
    "\n",
    "1. apaobflag, baobflag, naobflag, and haobflag are just subtypes of minority flags: Asian Pacific American, Black American, Native American, and Hispanic American, respectively. (Thus they're not particularly interesting. \n",
    "2. firm8aflag is for 8(a) Program Participant Organizations, which is a program for small, underpriviledged companies. \n",
    "3. DOT certified disadvantaged companies has a slightly smaller correlation. \n",
    "4. All ofthe executive compensations have a negative correlation, meaning that as executive compensation goes up, the likelihood of being minority owned is smaller."
   ]
  },
  {
   "cell_type": "code",
   "execution_count": 9,
   "metadata": {},
   "outputs": [],
   "source": [
    "# dat.prime_awardee_executive1_compensation.describe()"
   ]
  },
  {
   "cell_type": "markdown",
   "metadata": {},
   "source": [
    "## Aggregation\n",
    "\n",
    "I need to aggregate the awards based on company. Some companies have a lot of awards, so it could mess with things.  I'm also interested in adding a column that shows the count of awards for companies since that might be a good predictor of minority owned businesses. \n",
    "\n",
    "My hunch is that minority owned businesses are smaller than average, and have lower executive compensation/annual revenue than average. "
   ]
  },
  {
   "cell_type": "code",
   "execution_count": 10,
   "metadata": {},
   "outputs": [],
   "source": [
    "# sum of dollars obligated\n",
    "grp = ['vendorname', 'minorityownedbusinessflag']\n",
    "aggDollars = dat.groupby(grp)[['dollarsobligated']].agg(['sum', 'mean','count'])\n"
   ]
  },
  {
   "cell_type": "code",
   "execution_count": 11,
   "metadata": {
    "scrolled": true
   },
   "outputs": [],
   "source": [
    "# mean of prime_awardee_executive1_compensation\n",
    "aggExec = dat.groupby(grp)[['prime_awardee_executive1_compensation']].agg(['mean'])\n"
   ]
  },
  {
   "cell_type": "code",
   "execution_count": 12,
   "metadata": {
    "scrolled": true
   },
   "outputs": [],
   "source": [
    "# mean employeenumber\n",
    "aggEmps = dat.groupby(grp)[['numberofemployees']].agg(['median'])\n"
   ]
  },
  {
   "cell_type": "code",
   "execution_count": 13,
   "metadata": {},
   "outputs": [],
   "source": [
    "# Now join the three data sets\n",
    "#aggs = [aggDollars, aggExec]\n",
    "aggs = pd.merge(aggDollars, aggEmps, on=['vendorname', 'minorityownedbusinessflag'])\n",
    "\n"
   ]
  },
  {
   "cell_type": "code",
   "execution_count": 14,
   "metadata": {},
   "outputs": [
    {
     "name": "stdout",
     "output_type": "stream",
     "text": [
      "False    3155\n",
      "True      296\n",
      "Name: minorityownedbusinessflag, dtype: int64\n"
     ]
    },
    {
     "data": {
      "text/plain": [
       "0.08577223993045494"
      ]
     },
     "execution_count": 14,
     "metadata": {},
     "output_type": "execute_result"
    }
   ],
   "source": [
    "aggs.reset_index(level=1, inplace=True)\n",
    "#counts = pd.Series(aggs.minorityownedbusinessflag)\n",
    "min_counts = aggs['minorityownedbusinessflag'].value_counts()\n",
    "print(min_counts)\n",
    "min_counts[1]/min_counts.sum()"
   ]
  },
  {
   "cell_type": "markdown",
   "metadata": {},
   "source": [
    "There is clearly something going on with the number of employees. I'll treat that as a caveat for now. I can't really use it, but this is all just a use case for me to get familiar with python. \n",
    "\n",
    "I could scrub the SEC website to find all company CIK numbers (only for publicly traded ones), then scrub through all of their 10-k forms to find their employee counts as of 12/30/2017...but that's a lot of web scraping at this stage. \n",
    "\n",
    "Instead, I'm going to bucket the companies by employee count size. That way I can just say that any company with more than 500,000 employees is in the largest group. \n",
    "\n",
    "SEC had Cingular Wireless with [65,000 employees in 2005](https://www.sec.gov/Archives/edgar/data/1130452/000095014406001479/g99532e10vk.htm). This says 304,000 (median) in 2017. [AT&T has 268,000 employees](https://www.sec.gov/Archives/edgar/data/732717/000073271717000021/ye16_10k.htm), so maybe that's what's going on.  \n",
    "\n",
    "With that said, [Boeing is correct](https://www.sec.gov/Archives/edgar/data/12927/000001292717000006/a201612dec3110k.htm).\n",
    "\n",
    "## Assigning Buckets to Employee Count"
   ]
  },
  {
   "cell_type": "code",
   "execution_count": 15,
   "metadata": {},
   "outputs": [],
   "source": [
    "# assign buckets to employee count"
   ]
  },
  {
   "cell_type": "markdown",
   "metadata": {},
   "source": [
    "## Add Rural/Urban flag\n",
    "\n",
    "This dataset includes zip codes and address, but that's not good as a categorical variable. I'd like to create one, but I'm going to have to figure out the best way to do it. On other projects I've had to look up population statistics from the US Census, then join those in based on FIPS codes. We'll see if that's necessary here. \n",
    "\n",
    "### FInal Data Selection:\n",
    "(note, I should probably do a more nuanced feature selection method, like Recursive Feature Elimination)"
   ]
  },
  {
   "cell_type": "code",
   "execution_count": 16,
   "metadata": {},
   "outputs": [],
   "source": [
    "fed = aggs\n",
    "fed.columns = ['minorityowned', 'total_dollars', 'mean_dollars', \n",
    "               'count_record', 'median_emps']\n",
    "fed = fed.reset_index(drop=True)\n",
    "fed.total_dollars = fed.total_dollars/1000\n",
    "fed.mean_dollars = fed.mean_dollars/1000"
   ]
  },
  {
   "cell_type": "markdown",
   "metadata": {},
   "source": [
    "## Logistic Regression\n",
    "\n",
    "I'd like to do a logistic regression for a few of the variables above to see if they predict minority owned business\n",
    "\n",
    "### Test & Train Split"
   ]
  },
  {
   "cell_type": "code",
   "execution_count": 17,
   "metadata": {},
   "outputs": [
    {
     "data": {
      "text/html": [
       "<div>\n",
       "<style scoped>\n",
       "    .dataframe tbody tr th:only-of-type {\n",
       "        vertical-align: middle;\n",
       "    }\n",
       "\n",
       "    .dataframe tbody tr th {\n",
       "        vertical-align: top;\n",
       "    }\n",
       "\n",
       "    .dataframe thead th {\n",
       "        text-align: right;\n",
       "    }\n",
       "</style>\n",
       "<table border=\"1\" class=\"dataframe\">\n",
       "  <thead>\n",
       "    <tr style=\"text-align: right;\">\n",
       "      <th></th>\n",
       "      <th>minorityowned</th>\n",
       "      <th>total_dollars</th>\n",
       "      <th>mean_dollars</th>\n",
       "      <th>count_record</th>\n",
       "      <th>median_emps</th>\n",
       "    </tr>\n",
       "  </thead>\n",
       "  <tbody>\n",
       "    <tr>\n",
       "      <th>0</th>\n",
       "      <td>True</td>\n",
       "      <td>1355.53243</td>\n",
       "      <td>1355.532430</td>\n",
       "      <td>1</td>\n",
       "      <td>10.0</td>\n",
       "    </tr>\n",
       "    <tr>\n",
       "      <th>1</th>\n",
       "      <td>False</td>\n",
       "      <td>1.75000</td>\n",
       "      <td>0.437500</td>\n",
       "      <td>4</td>\n",
       "      <td>1.0</td>\n",
       "    </tr>\n",
       "    <tr>\n",
       "      <th>2</th>\n",
       "      <td>False</td>\n",
       "      <td>-0.85522</td>\n",
       "      <td>-0.855220</td>\n",
       "      <td>1</td>\n",
       "      <td>24.0</td>\n",
       "    </tr>\n",
       "    <tr>\n",
       "      <th>3</th>\n",
       "      <td>False</td>\n",
       "      <td>58.15768</td>\n",
       "      <td>19.385893</td>\n",
       "      <td>3</td>\n",
       "      <td>8.0</td>\n",
       "    </tr>\n",
       "    <tr>\n",
       "      <th>4</th>\n",
       "      <td>False</td>\n",
       "      <td>35.20474</td>\n",
       "      <td>5.029249</td>\n",
       "      <td>7</td>\n",
       "      <td>2.0</td>\n",
       "    </tr>\n",
       "  </tbody>\n",
       "</table>\n",
       "</div>"
      ],
      "text/plain": [
       "   minorityowned  total_dollars  mean_dollars  count_record  median_emps\n",
       "0           True     1355.53243   1355.532430             1         10.0\n",
       "1          False        1.75000      0.437500             4          1.0\n",
       "2          False       -0.85522     -0.855220             1         24.0\n",
       "3          False       58.15768     19.385893             3          8.0\n",
       "4          False       35.20474      5.029249             7          2.0"
      ]
     },
     "execution_count": 17,
     "metadata": {},
     "output_type": "execute_result"
    }
   ],
   "source": [
    "X = fed.loc[:, fed.columns != 'minorityowned']\n",
    "y = fed.loc[:, fed.columns == 'minorityowned']\n",
    "\n",
    "fed.head()"
   ]
  },
  {
   "cell_type": "code",
   "execution_count": 18,
   "metadata": {},
   "outputs": [],
   "source": [
    "from sklearn.model_selection import train_test_split\n",
    "import statsmodels.api as sm\n",
    "logit_model=sm.Logit(y,X)\n",
    "X_train, X_test, y_train, y_test = train_test_split(X, y, test_size = .33,\n",
    "                                                   random_state=42)"
   ]
  },
  {
   "cell_type": "code",
   "execution_count": 19,
   "metadata": {},
   "outputs": [
    {
     "name": "stdout",
     "output_type": "stream",
     "text": [
      "Optimization terminated successfully.\n",
      "         Current function value: 0.507569\n",
      "         Iterations 14\n",
      "                         Results: Logit\n",
      "================================================================\n",
      "Model:              Logit            Pseudo R-squared: -0.667   \n",
      "Dependent Variable: minorityowned    AIC:              2354.9974\n",
      "Date:               2018-09-27 20:41 BIC:              2377.9808\n",
      "No. Observations:   2312             Log-Likelihood:   -1173.5  \n",
      "Df Model:           3                LL-Null:          -703.90  \n",
      "Df Residuals:       2308             LLR p-value:      1.0000   \n",
      "Converged:          1.0000           Scale:            1.0000   \n",
      "No. Iterations:     14.0000                                     \n",
      "----------------------------------------------------------------\n",
      "                 Coef.  Std.Err.    z     P>|z|   [0.025  0.975]\n",
      "----------------------------------------------------------------\n",
      "total_dollars    0.0001   0.0000   1.1118 0.2662 -0.0000  0.0001\n",
      "mean_dollars    -0.0022   0.0007  -3.2420 0.0012 -0.0035 -0.0009\n",
      "count_record    -0.0007   0.0009  -0.8273 0.4081 -0.0024  0.0010\n",
      "median_emps     -0.0260   0.0021 -12.5783 0.0000 -0.0300 -0.0219\n",
      "================================================================\n",
      "\n"
     ]
    },
    {
     "name": "stderr",
     "output_type": "stream",
     "text": [
      "/opt/conda/lib/python3.6/site-packages/statsmodels/discrete/discrete_model.py:1674: RuntimeWarning: overflow encountered in exp\n",
      "  return 1/(1+np.exp(-X))\n"
     ]
    }
   ],
   "source": [
    "logit_model=sm.Logit(y_train,X_train)\n",
    "result=logit_model.fit()\n",
    "print(result.summary2())"
   ]
  },
  {
   "cell_type": "code",
   "execution_count": 20,
   "metadata": {},
   "outputs": [
    {
     "name": "stderr",
     "output_type": "stream",
     "text": [
      "/opt/conda/lib/python3.6/site-packages/sklearn/linear_model/logistic.py:432: FutureWarning: Default solver will be changed to 'lbfgs' in 0.22. Specify a solver to silence this warning.\n",
      "  FutureWarning)\n",
      "/opt/conda/lib/python3.6/site-packages/sklearn/utils/validation.py:752: DataConversionWarning: A column-vector y was passed when a 1d array was expected. Please change the shape of y to (n_samples, ), for example using ravel().\n",
      "  y = column_or_1d(y, warn=True)\n"
     ]
    },
    {
     "data": {
      "text/plain": [
       "LogisticRegression(C=1.0, class_weight=None, dual=False, fit_intercept=True,\n",
       "          intercept_scaling=1, max_iter=100, multi_class='warn',\n",
       "          n_jobs=None, penalty='l2', random_state=None, solver='warn',\n",
       "          tol=0.0001, verbose=0, warm_start=False)"
      ]
     },
     "execution_count": 20,
     "metadata": {},
     "output_type": "execute_result"
    }
   ],
   "source": [
    "from sklearn.linear_model import LogisticRegression\n",
    "from sklearn import metrics\n",
    "\n",
    "X_train, X_test, y_train, y_test = train_test_split(X, y, test_size=0.3, random_state=0)\n",
    "logreg = LogisticRegression()\n",
    "logreg.fit(X_train, y_train)"
   ]
  },
  {
   "cell_type": "markdown",
   "metadata": {},
   "source": [
    "I'm just doing this as an example to see what's possible. It looks like this is throwing some errors that I'm going to have to work out. "
   ]
  },
  {
   "cell_type": "code",
   "execution_count": 21,
   "metadata": {},
   "outputs": [
    {
     "name": "stdout",
     "output_type": "stream",
     "text": [
      "Accuracy of logistic regression classifier on test set: 0.92\n"
     ]
    }
   ],
   "source": [
    "y_pred = logreg.predict(X_test)\n",
    "print('Accuracy of logistic regression classifier on test set: {:.2f}'.format(logreg.score(X_test, y_test)))"
   ]
  },
  {
   "cell_type": "markdown",
   "metadata": {},
   "source": [
    "Nice to see that I can run a Logistic Regression model, but note the prevalence from above: it's just 8%.  That means that I could predict that all are False and still get 92% accuracy.  \n",
    "\n",
    "This is apparent in the confusion matrix (below).  **I'll need to try this out with an over/undersampling method.**"
   ]
  },
  {
   "cell_type": "code",
   "execution_count": 22,
   "metadata": {},
   "outputs": [
    {
     "name": "stdout",
     "output_type": "stream",
     "text": [
      "[[954   0]\n",
      " [ 82   0]]\n"
     ]
    }
   ],
   "source": [
    "from sklearn.metrics import confusion_matrix\n",
    "confusion_matrix = confusion_matrix(y_test, y_pred)\n",
    "print(confusion_matrix)"
   ]
  },
  {
   "cell_type": "code",
   "execution_count": 23,
   "metadata": {},
   "outputs": [
    {
     "name": "stdout",
     "output_type": "stream",
     "text": [
      "              precision    recall  f1-score   support\n",
      "\n",
      "       False       0.92      1.00      0.96       954\n",
      "        True       0.00      0.00      0.00        82\n",
      "\n",
      "   micro avg       0.92      0.92      0.92      1036\n",
      "   macro avg       0.46      0.50      0.48      1036\n",
      "weighted avg       0.85      0.92      0.88      1036\n",
      "\n"
     ]
    },
    {
     "name": "stderr",
     "output_type": "stream",
     "text": [
      "/opt/conda/lib/python3.6/site-packages/sklearn/metrics/classification.py:1143: UndefinedMetricWarning: Precision and F-score are ill-defined and being set to 0.0 in labels with no predicted samples.\n",
      "  'precision', 'predicted', average, warn_for)\n",
      "/opt/conda/lib/python3.6/site-packages/sklearn/metrics/classification.py:1143: UndefinedMetricWarning: Precision and F-score are ill-defined and being set to 0.0 in labels with no predicted samples.\n",
      "  'precision', 'predicted', average, warn_for)\n",
      "/opt/conda/lib/python3.6/site-packages/sklearn/metrics/classification.py:1143: UndefinedMetricWarning: Precision and F-score are ill-defined and being set to 0.0 in labels with no predicted samples.\n",
      "  'precision', 'predicted', average, warn_for)\n"
     ]
    }
   ],
   "source": [
    "from sklearn.metrics import classification_report\n",
    "print(classification_report(y_test, y_pred))"
   ]
  },
  {
   "cell_type": "markdown",
   "metadata": {},
   "source": [
    "#### Why I have a feature generation branch!\n",
    "\n",
    "I'll add a resampling_method branch as well. "
   ]
  },
  {
   "cell_type": "code",
   "execution_count": 25,
   "metadata": {},
   "outputs": [
    {
     "data": {
      "image/png": "[encoded data removed]",
      "text/plain": [
       "<Figure size 432x288 with 1 Axes>"
      ]
     },
     "metadata": {},
     "output_type": "display_data"
    }
   ],
   "source": [
    "from sklearn.metrics import roc_auc_score\n",
    "from sklearn.metrics import roc_curve\n",
    "%matplotlib inline  \n",
    "logit_roc_auc = roc_auc_score(y_test, logreg.predict(X_test))\n",
    "fpr, tpr, thresholds = roc_curve(y_test, logreg.predict_proba(X_test)[:,1])\n",
    "plt.figure()\n",
    "plt.plot(fpr, tpr, label='Logistic Regression (area = %0.2f)' % logit_roc_auc)\n",
    "plt.plot([0, 1], [0, 1],'r--')\n",
    "plt.xlim([0.0, 1.0])\n",
    "plt.ylim([0.0, 1.05])\n",
    "plt.xlabel('False Positive Rate')\n",
    "plt.ylabel('True Positive Rate')\n",
    "plt.title('Receiver operating characteristic')\n",
    "plt.legend(loc=\"lower right\")\n",
    "plt.savefig('Log_ROC')\n",
    "plt.show()"
   ]
  },
  {
   "cell_type": "code",
   "execution_count": null,
   "metadata": {},
   "outputs": [],
   "source": []
  }
 ],
 "metadata": {
  "kernelspec": {
   "display_name": "Python 3",
   "language": "python",
   "name": "python3"
  },
  "language_info": {
   "codemirror_mode": {
    "name": "ipython",
    "version": 3
   },
   "file_extension": ".py",
   "mimetype": "text/x-python",
   "name": "python",
   "nbconvert_exporter": "python",
   "pygments_lexer": "ipython3",
   "version": "3.6.3"
  }
 },
 "nbformat": 4,
 "nbformat_minor": 2
}
