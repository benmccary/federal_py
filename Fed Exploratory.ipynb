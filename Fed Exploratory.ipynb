{
 "cells": [
  {
   "cell_type": "markdown",
   "metadata": {},
   "source": [
    "# Exploratory analysis for federal contractors\n",
    "\n",
    "This is just a simple exploratory analysis to get familiar with the Python language, docker containers, and Jupyter notebooks.  I've downloaded datasets from the [Federal Contractors Database](https://www.usaspending.gov/#/download_center/custom_award_data). For variable types, see the [data dictionary](http://fedspendingtransparency.github.io/dictionary-v1.1/).\n",
    "\n",
    "[Track progress of the project on my trello board](https://trello.com/b/lZYSGp4M/federal-contractors-python)\n",
    "\n",
    "\n",
    "While the goal is simply to get used to Python and some other technologies, I am interested in the specific question of ***what factors are the best predictors of minority owned companies***.  "
   ]
  },
  {
   "cell_type": "markdown",
   "metadata": {},
   "source": [
    "#### Init\n",
    "Read in the data and load packages"
   ]
  },
  {
   "cell_type": "code",
   "execution_count": 1,
   "metadata": {},
   "outputs": [],
   "source": [
    "import pandas as pd\n",
    "import numpy as np\n",
    "import pandas_profiling as pp\n",
    "\n",
    "dat = pd.read_csv('data/2017.csv', low_memory=False)"
   ]
  },
  {
   "cell_type": "markdown",
   "metadata": {},
   "source": [
    "## Profiling"
   ]
  },
  {
   "cell_type": "code",
   "execution_count": 2,
   "metadata": {},
   "outputs": [
    {
     "data": {
      "text/plain": [
       "(72367, 225)"
      ]
     },
     "execution_count": 2,
     "metadata": {},
     "output_type": "execute_result"
    }
   ],
   "source": [
    "dat.shape"
   ]
  },
  {
   "cell_type": "markdown",
   "metadata": {},
   "source": [
    "Since the data has 225 columns and +70k rows, I'm only going to do a profile report on a small subset of the rows.  I'm also going to save the report as an HTML file outside of this analysis.  "
   ]
  },
  {
   "cell_type": "code",
   "execution_count": 3,
   "metadata": {
    "scrolled": false
   },
   "outputs": [],
   "source": [
    "profile = pp.ProfileReport(dat.loc[0:10000])\n",
    "profile.to_file(outputfile = \"profiling/profile.html\")"
   ]
  },
  {
   "cell_type": "code",
   "execution_count": 4,
   "metadata": {},
   "outputs": [],
   "source": [
    "import matplotlib.pyplot as plt\n",
    "cmt = dat.corr()"
   ]
  },
  {
   "cell_type": "markdown",
   "metadata": {},
   "source": [
    "I'm mostly interested in dollars the companies recieve and the size of the company. So I'm going to make a function that checks for a certain level of correlation for the selected variable. The following cells look at:  \n",
    "\n",
    "* Dollars Obligated\n",
    "* Number of Employees\n",
    "* Minority Owned Flag"
   ]
  },
  {
   "cell_type": "code",
   "execution_count": 5,
   "metadata": {},
   "outputs": [],
   "source": [
    "def corMat(dd, corlv, var):\n",
    "    ind = abs(dd[var]) > corlv\n",
    "    return dd.loc[ind, ind]; "
   ]
  },
  {
   "cell_type": "code",
   "execution_count": 6,
   "metadata": {},
   "outputs": [
    {
     "data": {
      "text/plain": [
       "dollarsobligated                         1.000000\n",
       "baseandexercisedoptionsvalue             0.967203\n",
       "baseandalloptionsvalue                   0.861076\n",
       "progsourcesubacct                       -0.076980\n",
       "prime_awardee_executive1_compensation   -0.084980\n",
       "prime_awardee_executive2_compensation   -0.072067\n",
       "prime_awardee_executive3_compensation   -0.071098\n",
       "prime_awardee_executive4_compensation   -0.071617\n",
       "prime_awardee_executive5_compensation   -0.065659\n",
       "Name: dollarsobligated, dtype: float64"
      ]
     },
     "execution_count": 6,
     "metadata": {},
     "output_type": "execute_result"
    }
   ],
   "source": [
    "corMat(cmt,0.05, \"dollarsobligated\").dollarsobligated"
   ]
  },
  {
   "cell_type": "code",
   "execution_count": 7,
   "metadata": {
    "scrolled": true
   },
   "outputs": [
    {
     "data": {
      "text/plain": [
       "progsourceagency                             -0.068632\n",
       "progsourcesubacct                            -0.112453\n",
       "ccrexception                                 -0.357217\n",
       "vendor_cd                                     0.093742\n",
       "congressionaldistrict                         0.093742\n",
       "placeofperformancezipcode                    -0.145658\n",
       "transactionnumber                             0.100897\n",
       "numberofemployees                             1.000000\n",
       "veteranownedflag                             -0.077613\n",
       "receivescontracts                             0.077046\n",
       "issubchapterscorporation                     -0.124280\n",
       "islimitedliabilitycorporation                 0.051856\n",
       "ispartnershiporlimitedliabilitypartnership    0.057622\n",
       "prime_awardee_executive1_compensation         0.975024\n",
       "prime_awardee_executive2_compensation         0.980690\n",
       "prime_awardee_executive3_compensation         0.972878\n",
       "prime_awardee_executive4_compensation         0.963208\n",
       "prime_awardee_executive5_compensation         0.973902\n",
       "Name: numberofemployees, dtype: float64"
      ]
     },
     "execution_count": 7,
     "metadata": {},
     "output_type": "execute_result"
    }
   ],
   "source": [
    "corMat(cmt,0.05, \"numberofemployees\").numberofemployees"
   ]
  },
  {
   "cell_type": "code",
   "execution_count": 8,
   "metadata": {},
   "outputs": [
    {
     "data": {
      "text/plain": [
       "progsourcesubacct                               -0.288274\n",
       "placeofperformancezipcode                        0.255004\n",
       "firm8aflag                                       0.316287\n",
       "minorityownedbusinessflag                        1.000000\n",
       "apaobflag                                        0.614026\n",
       "baobflag                                         0.329557\n",
       "naobflag                                         0.263247\n",
       "haobflag                                         0.269490\n",
       "isdotcertifieddisadvantagedbusinessenterprise    0.270052\n",
       "prime_awardee_executive1_compensation           -0.337572\n",
       "prime_awardee_executive2_compensation           -0.375064\n",
       "prime_awardee_executive3_compensation           -0.398767\n",
       "prime_awardee_executive4_compensation           -0.446047\n",
       "prime_awardee_executive5_compensation           -0.400471\n",
       "Name: minorityownedbusinessflag, dtype: float64"
      ]
     },
     "execution_count": 8,
     "metadata": {},
     "output_type": "execute_result"
    }
   ],
   "source": [
    "corMat(cmt,0.25, \"minorityownedbusinessflag\").minorityownedbusinessflag"
   ]
  },
  {
   "cell_type": "markdown",
   "metadata": {},
   "source": [
    "The minority owned business flag shows several interesting correlations:  \n",
    "\n",
    "1. apaobflag, baobflag, naobflag, and haobflag are just subtypes of minority flags: Asian Pacific American, Black American, Native American, and Hispanic American, respectively. (Thus they're not particularly interesting. \n",
    "2. firm8aflag is for 8(a) Program Participant Organizations, which is a program for small, underpriviledged companies. \n",
    "3. DOT certified disadvantaged companies has a slightly smaller correlation. \n",
    "4. All ofthe executive compensations have a negative correlation, meaning that as executive compensation goes up, the likelihood of being minority owned is smaller."
   ]
  },
  {
   "cell_type": "code",
   "execution_count": 9,
   "metadata": {},
   "outputs": [],
   "source": [
    "# dat.prime_awardee_executive1_compensation.describe()"
   ]
  },
  {
   "cell_type": "markdown",
   "metadata": {},
   "source": [
    "## Aggregation\n",
    "\n",
    "I need to aggregate the awards based on company. Some companies have a lot of awards, so it could mess with things.  I'm also interested in adding a column that shows the count of awards for companies since that might be a good predictor of minority owned businesses. \n",
    "\n",
    "My hunch is that minority owned businesses are smaller than average, and have lower executive compensation/annual revenue than average. "
   ]
  },
  {
   "cell_type": "code",
   "execution_count": 41,
   "metadata": {},
   "outputs": [
    {
     "data": {
      "text/html": [
       "<div>\n",
       "<style scoped>\n",
       "    .dataframe tbody tr th:only-of-type {\n",
       "        vertical-align: middle;\n",
       "    }\n",
       "\n",
       "    .dataframe tbody tr th {\n",
       "        vertical-align: top;\n",
       "    }\n",
       "\n",
       "    .dataframe thead tr th {\n",
       "        text-align: left;\n",
       "    }\n",
       "\n",
       "    .dataframe thead tr:last-of-type th {\n",
       "        text-align: right;\n",
       "    }\n",
       "</style>\n",
       "<table border=\"1\" class=\"dataframe\">\n",
       "  <thead>\n",
       "    <tr>\n",
       "      <th></th>\n",
       "      <th></th>\n",
       "      <th colspan=\"2\" halign=\"left\">dollarsobligated</th>\n",
       "      <th colspan=\"2\" halign=\"left\">prime_awardee_executive1_compensation</th>\n",
       "    </tr>\n",
       "    <tr>\n",
       "      <th></th>\n",
       "      <th></th>\n",
       "      <th>sum</th>\n",
       "      <th>count</th>\n",
       "      <th>sum</th>\n",
       "      <th>count</th>\n",
       "    </tr>\n",
       "    <tr>\n",
       "      <th>vendorname</th>\n",
       "      <th>minorityownedbusinessflag</th>\n",
       "      <th></th>\n",
       "      <th></th>\n",
       "      <th></th>\n",
       "      <th></th>\n",
       "    </tr>\n",
       "  </thead>\n",
       "  <tbody>\n",
       "    <tr>\n",
       "      <th>METRO MACHINE CORPORATION</th>\n",
       "      <th>False</th>\n",
       "      <td>3.229795e+07</td>\n",
       "      <td>81</td>\n",
       "      <td>150574944.0</td>\n",
       "      <td>78</td>\n",
       "    </tr>\n",
       "    <tr>\n",
       "      <th>GENERAL DYNAMICS OTS (AEROSPACE), INC.</th>\n",
       "      <th>False</th>\n",
       "      <td>5.572170e+06</td>\n",
       "      <td>24</td>\n",
       "      <td>52153420.0</td>\n",
       "      <td>23</td>\n",
       "    </tr>\n",
       "    <tr>\n",
       "      <th>MISSION SUPPORT ALLIANCE, LLC</th>\n",
       "      <th>False</th>\n",
       "      <td>3.025041e+08</td>\n",
       "      <td>83</td>\n",
       "      <td>22534411.0</td>\n",
       "      <td>80</td>\n",
       "    </tr>\n",
       "    <tr>\n",
       "      <th>SAFE BOATS INTERNATIONAL LLC</th>\n",
       "      <th>False</th>\n",
       "      <td>1.925940e+07</td>\n",
       "      <td>43</td>\n",
       "      <td>17094888.0</td>\n",
       "      <td>39</td>\n",
       "    </tr>\n",
       "    <tr>\n",
       "      <th>RORE, INC.</th>\n",
       "      <th>True</th>\n",
       "      <td>2.482039e+07</td>\n",
       "      <td>170</td>\n",
       "      <td>11400000.0</td>\n",
       "      <td>57</td>\n",
       "    </tr>\n",
       "    <tr>\n",
       "      <th>SAFE BOATS INTERNATIONAL L.L.C.</th>\n",
       "      <th>False</th>\n",
       "      <td>7.267223e+06</td>\n",
       "      <td>20</td>\n",
       "      <td>8691640.0</td>\n",
       "      <td>20</td>\n",
       "    </tr>\n",
       "    <tr>\n",
       "      <th>HPM CORPORATION</th>\n",
       "      <th>True</th>\n",
       "      <td>6.595268e+05</td>\n",
       "      <td>12</td>\n",
       "      <td>4105031.0</td>\n",
       "      <td>12</td>\n",
       "    </tr>\n",
       "    <tr>\n",
       "      <th>TRITON MARINE CONSTRUCTION CORP.</th>\n",
       "      <th>False</th>\n",
       "      <td>5.503661e+06</td>\n",
       "      <td>6</td>\n",
       "      <td>3840000.0</td>\n",
       "      <td>6</td>\n",
       "    </tr>\n",
       "    <tr>\n",
       "      <th>SAFE BOATS INTERNATIONAL LIMITED LIABILITY COMPANY</th>\n",
       "      <th>False</th>\n",
       "      <td>5.612081e+05</td>\n",
       "      <td>5</td>\n",
       "      <td>2197275.0</td>\n",
       "      <td>5</td>\n",
       "    </tr>\n",
       "  </tbody>\n",
       "</table>\n",
       "</div>"
      ],
      "text/plain": [
       "                                                                             dollarsobligated  \\\n",
       "                                                                                          sum   \n",
       "vendorname                                         minorityownedbusinessflag                    \n",
       "METRO MACHINE CORPORATION                          False                         3.229795e+07   \n",
       "GENERAL DYNAMICS OTS (AEROSPACE), INC.             False                         5.572170e+06   \n",
       "MISSION SUPPORT ALLIANCE, LLC                      False                         3.025041e+08   \n",
       "SAFE BOATS INTERNATIONAL LLC                       False                         1.925940e+07   \n",
       "RORE, INC.                                         True                          2.482039e+07   \n",
       "SAFE BOATS INTERNATIONAL L.L.C.                    False                         7.267223e+06   \n",
       "HPM CORPORATION                                    True                          6.595268e+05   \n",
       "TRITON MARINE CONSTRUCTION CORP.                   False                         5.503661e+06   \n",
       "SAFE BOATS INTERNATIONAL LIMITED LIABILITY COMPANY False                         5.612081e+05   \n",
       "\n",
       "                                                                                    \\\n",
       "                                                                             count   \n",
       "vendorname                                         minorityownedbusinessflag         \n",
       "METRO MACHINE CORPORATION                          False                        81   \n",
       "GENERAL DYNAMICS OTS (AEROSPACE), INC.             False                        24   \n",
       "MISSION SUPPORT ALLIANCE, LLC                      False                        83   \n",
       "SAFE BOATS INTERNATIONAL LLC                       False                        43   \n",
       "RORE, INC.                                         True                        170   \n",
       "SAFE BOATS INTERNATIONAL L.L.C.                    False                        20   \n",
       "HPM CORPORATION                                    True                         12   \n",
       "TRITON MARINE CONSTRUCTION CORP.                   False                         6   \n",
       "SAFE BOATS INTERNATIONAL LIMITED LIABILITY COMPANY False                         5   \n",
       "\n",
       "                                                                             prime_awardee_executive1_compensation  \\\n",
       "                                                                                                               sum   \n",
       "vendorname                                         minorityownedbusinessflag                                         \n",
       "METRO MACHINE CORPORATION                          False                                               150574944.0   \n",
       "GENERAL DYNAMICS OTS (AEROSPACE), INC.             False                                                52153420.0   \n",
       "MISSION SUPPORT ALLIANCE, LLC                      False                                                22534411.0   \n",
       "SAFE BOATS INTERNATIONAL LLC                       False                                                17094888.0   \n",
       "RORE, INC.                                         True                                                 11400000.0   \n",
       "SAFE BOATS INTERNATIONAL L.L.C.                    False                                                 8691640.0   \n",
       "HPM CORPORATION                                    True                                                  4105031.0   \n",
       "TRITON MARINE CONSTRUCTION CORP.                   False                                                 3840000.0   \n",
       "SAFE BOATS INTERNATIONAL LIMITED LIABILITY COMPANY False                                                 2197275.0   \n",
       "\n",
       "                                                                                    \n",
       "                                                                             count  \n",
       "vendorname                                         minorityownedbusinessflag        \n",
       "METRO MACHINE CORPORATION                          False                        78  \n",
       "GENERAL DYNAMICS OTS (AEROSPACE), INC.             False                        23  \n",
       "MISSION SUPPORT ALLIANCE, LLC                      False                        80  \n",
       "SAFE BOATS INTERNATIONAL LLC                       False                        39  \n",
       "RORE, INC.                                         True                         57  \n",
       "SAFE BOATS INTERNATIONAL L.L.C.                    False                        20  \n",
       "HPM CORPORATION                                    True                         12  \n",
       "TRITON MARINE CONSTRUCTION CORP.                   False                         6  \n",
       "SAFE BOATS INTERNATIONAL LIMITED LIABILITY COMPANY False                         5  "
      ]
     },
     "execution_count": 41,
     "metadata": {},
     "output_type": "execute_result"
    }
   ],
   "source": [
    "grp = ['vendorname', 'minorityownedbusinessflag']\n",
    "cls = ['dollarsobligated', 'prime_awardee_executive1_compensation']\n",
    "aggs = dat.groupby(grp)[cls].agg(['sum', 'count'])\n",
    "#aggs[0:4]\n",
    "aggs.sort_values([('prime_awardee_executive1_compensation', 'sum')], ascending=False)[0:9]"
   ]
  },
  {
   "cell_type": "markdown",
   "metadata": {},
   "source": [
    "**Note: the above code isn't working because 1) prime awardee should be an average. More contracts will duplicate compensation amounts and 2)because of that, I need to get rid of the multi-indexed sorting. I'm saving it because the sorting is confusing to get used to.**"
   ]
  },
  {
   "cell_type": "markdown",
   "metadata": {},
   "source": [
    "Now I need to get the other company attributes: \n",
    "\n",
    "* average number of employees (there are outliers that seem like mistakes here)\n",
    "* sum of prime awardee compensation\n",
    "* geographic region (see below)"
   ]
  },
  {
   "cell_type": "code",
   "execution_count": 27,
   "metadata": {},
   "outputs": [],
   "source": [
    "# add code to get average number of employees "
   ]
  },
  {
   "cell_type": "markdown",
   "metadata": {},
   "source": [
    "## Add Rural/Urban flag\n",
    "\n",
    "This dataset includes zip codes and address, but that's not good as a categorical variable. I'd like to create one, but I'm going to have to figure out the best way to do it. On other projects I've had to look up population statistics from the US Census, then join those in based on FIPS codes. We'll see if that's necessary here. "
   ]
  },
  {
   "cell_type": "markdown",
   "metadata": {},
   "source": [
    "## Logistic Regression\n",
    "\n",
    "I'd like to do a logistic regression for a few of the variables above to see if they predict minority owned business"
   ]
  }
 ],
 "metadata": {
  "kernelspec": {
   "display_name": "Python 3",
   "language": "python",
   "name": "python3"
  },
  "language_info": {
   "codemirror_mode": {
    "name": "ipython",
    "version": 3
   },
   "file_extension": ".py",
   "mimetype": "text/x-python",
   "name": "python",
   "nbconvert_exporter": "python",
   "pygments_lexer": "ipython3",
   "version": "3.6.3"
  }
 },
 "nbformat": 4,
 "nbformat_minor": 2
}
